{
 "cells": [
  {
   "cell_type": "markdown",
   "id": "2ba3b92a-a61a-4263-a031-250155202f95",
   "metadata": {},
   "source": [
    "# salvo_eval_broadband_albedo\n",
    "\n",
    "Notebook for evaluating the accuracy of the SALVO broadband albedo measurements"
   ]
  },
  {
   "cell_type": "code",
   "execution_count": null,
   "id": "a0f978cc-b0bc-444c-be46-899dff195565",
   "metadata": {},
   "outputs": [],
   "source": []
  }
 ],
 "metadata": {
  "kernelspec": {
   "display_name": "Python 3 (ipykernel)",
   "language": "python",
   "name": "python3"
  },
  "language_info": {
   "codemirror_mode": {
    "name": "ipython",
    "version": 3
   },
   "file_extension": ".py",
   "mimetype": "text/x-python",
   "name": "python",
   "nbconvert_exporter": "python",
   "pygments_lexer": "ipython3",
   "version": "3.12.4"
  }
 },
 "nbformat": 4,
 "nbformat_minor": 5
}
