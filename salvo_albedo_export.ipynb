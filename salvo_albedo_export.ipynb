{
 "cells": [
  {
   "cell_type": "markdown",
   "id": "40c80424-f694-46c5-b14b-9730ce27a9ae",
   "metadata": {},
   "source": [
    "# salvo_albedo_export\n",
    "\n",
    "Notebook to export SALVO albedo data"
   ]
  },
  {
   "cell_type": "code",
   "execution_count": 30,
   "id": "3d40624d-011b-4939-bd6e-f3b342690fc7",
   "metadata": {},
   "outputs": [
    {
     "name": "stdout",
     "output_type": "stream",
     "text": [
      "The autoreload extension is already loaded. To reload it, use:\n",
      "  %reload_ext autoreload\n"
     ]
    }
   ],
   "source": [
    "import os\n",
    "import numpy as np\n",
    "import pandas as pd\n",
    "import warnings\n",
    "\n",
    "from modules.salvoimport import load_salvo_data_str\n",
    "from modules.salvoproc import line_date_agg\n",
    "\n",
    "%load_ext autoreload\n",
    "%autoreload"
   ]
  },
  {
   "cell_type": "code",
   "execution_count": 19,
   "id": "c2406558-f141-47e3-9417-11a0ffc69d08",
   "metadata": {},
   "outputs": [],
   "source": [
    "# Load broadband data\n",
    "salvo_data_root_path = os.path.join(\"C:/\", \"Users\", \"dclemenssewall\", \"Desktop\", \"DavidCS\", \"NOAA\", \"projects\", \n",
    "                                    \"SALVO\", \"data\", \"salvo-2024-backup\", \"SALVO-2024-20240619-1305\")\n",
    "\n",
    "with warnings.catch_warnings():\n",
    "    warnings.simplefilter('ignore')\n",
    "    df = load_salvo_data_str(salvo_data_root_path, dates=None,insts=['kz-mobile'], sites=['arm', 'beo', 'ice'])"
   ]
  },
  {
   "cell_type": "code",
   "execution_count": 35,
   "id": "a4bc4a36-84cf-4863-bb7d-f6857e416490",
   "metadata": {},
   "outputs": [],
   "source": [
    "# Aggregate by and line\n",
    "df_temp = line_date_agg(df, 'albedo')\n",
    "valid_pos = np.arange(41)*5\n",
    "df_temp = df_temp.query('position in @valid_pos')\n",
    "df_temp = df_temp.drop(columns='meantime_akdt')\n",
    "df_arm = df_temp.query('site == \"arm\"').reset_index().drop(columns='site').pivot(index='position', columns='date_akdt')\n",
    "df_beo = df_temp.query('site == \"beo\"').reset_index().drop(columns='site').pivot(index='position', columns='date_akdt')\n",
    "df_ice = df_temp.query('site == \"ice\"').reset_index().drop(columns='site').pivot(index='position', columns='date_akdt')"
   ]
  },
  {
   "cell_type": "code",
   "execution_count": 37,
   "id": "7ec133e7-e73e-418a-a8c5-05f7267b844a",
   "metadata": {},
   "outputs": [],
   "source": [
    "# Write to csv\n",
    "export_path = os.path.join(\"C:/\", \"Users\", \"dclemenssewall\", \"Desktop\", \"DavidCS\", \"NOAA\", \"projects\", \n",
    "                            \"SALVO\", \"export\")\n",
    "\n",
    "df.to_csv(os.path.join(export_path, 'salvo_broadband_all_long.csv'))\n",
    "df_arm.to_csv(os.path.join(export_path, 'salvo_albedo_arm_wide.csv'))\n",
    "df_beo.to_csv(os.path.join(export_path, 'salvo_albedo_beo_wide.csv'))\n",
    "df_ice.to_csv(os.path.join(export_path, 'salvo_albedo_ice_wide.csv'))"
   ]
  }
 ],
 "metadata": {
  "kernelspec": {
   "display_name": "Python 3 (ipykernel)",
   "language": "python",
   "name": "python3"
  },
  "language_info": {
   "codemirror_mode": {
    "name": "ipython",
    "version": 3
   },
   "file_extension": ".py",
   "mimetype": "text/x-python",
   "name": "python",
   "nbconvert_exporter": "python",
   "pygments_lexer": "ipython3",
   "version": "3.12.4"
  }
 },
 "nbformat": 4,
 "nbformat_minor": 5
}
