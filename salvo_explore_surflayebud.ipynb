{
 "cells": [
  {
   "cell_type": "markdown",
   "id": "5926358a-9893-427a-9888-98b417c3b1d3",
   "metadata": {},
   "source": [
    "# salvo_explore_surflayebud\n",
    "\n",
    "Notebook for exploring the basal temperatures at SALVO"
   ]
  },
  {
   "cell_type": "code",
   "execution_count": 1,
   "id": "b2c80bd3-1c93-43d5-8f86-d92f01df83f2",
   "metadata": {},
   "outputs": [],
   "source": [
    "import numpy as np\n",
    "import xarray as xr\n",
    "import pandas as pd\n",
    "import matplotlib.pyplot as plt\n",
    "\n",
    "%matplotlib inline"
   ]
  },
  {
   "cell_type": "code",
   "execution_count": 6,
   "id": "da2cdd86-de7b-4d0b-a1a0-c60a2840dfad",
   "metadata": {},
   "outputs": [
    {
     "name": "stdout",
     "output_type": "stream",
     "text": [
      "0.6241935719152535\n",
      "0.1\n",
      "0.36545633957968293\n",
      "0.2\n",
      "0.13355833613898052\n",
      "0.3\n",
      "0.0488097406457047\n"
     ]
    }
   ],
   "source": [
    "# Consider diurnal temperature propagation\n",
    "k = 0.3 # J / s m K\n",
    "rho = 400 # Kg / m3\n",
    "c = 2090 # J / Kg K\n",
    "\n",
    "a = k / (rho*c) # (J / s m K)/(J / m3 K) = m2 / s\n",
    "w_d = 2*np.pi / (60*60*24) # rad / s diurnal angular frequency\n",
    "\n",
    "# Velocity of propagation\n",
    "print(np.sqrt(2*w_d*a)*60*60*24) # m / day\n",
    "# In other words, the diurnal signal propagates through the entire snowpack\n",
    "\n",
    "# Amplitude attenuation\n",
    "z = 0.1\n",
    "print(z)\n",
    "print(np.exp(-z*np.sqrt(w_d/(2*a))))\n",
    "z = 0.2\n",
    "print(z)\n",
    "print(np.exp(-z*np.sqrt(w_d/(2*a))))\n",
    "z = 0.3\n",
    "print(z)\n",
    "print(np.exp(-z*np.sqrt(w_d/(2*a))))"
   ]
  },
  {
   "cell_type": "code",
   "execution_count": null,
   "id": "7d896a15-9da6-45e7-b279-497f06d7a1ca",
   "metadata": {},
   "outputs": [],
   "source": []
  }
 ],
 "metadata": {
  "kernelspec": {
   "display_name": "Python 3 (ipykernel)",
   "language": "python",
   "name": "python3"
  },
  "language_info": {
   "codemirror_mode": {
    "name": "ipython",
    "version": 3
   },
   "file_extension": ".py",
   "mimetype": "text/x-python",
   "name": "python",
   "nbconvert_exporter": "python",
   "pygments_lexer": "ipython3",
   "version": "3.12.4"
  }
 },
 "nbformat": 4,
 "nbformat_minor": 5
}
