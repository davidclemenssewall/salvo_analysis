{
 "cells": [
  {
   "cell_type": "markdown",
   "id": "97609fdf-8b5a-4d1a-bf81-44168c06fce3",
   "metadata": {},
   "source": [
    "# snowpit_analysis\n",
    "\n",
    "Notebook to begin plotting/analyzing SALVO snowpit data"
   ]
  },
  {
   "cell_type": "code",
   "execution_count": 6,
   "id": "91ba9b22-234f-4fd7-aacd-88a321822ead",
   "metadata": {},
   "outputs": [],
   "source": [
    "import os\n",
    "import re\n",
    "import numpy as np\n",
    "import matplotlib.pyplot as plt\n",
    "import pandas as pd\n",
    "import xarray as xr"
   ]
  },
  {
   "cell_type": "code",
   "execution_count": 7,
   "id": "e381ade5-2dd0-43a6-93d7-0838402bd165",
   "metadata": {},
   "outputs": [],
   "source": [
    "salvo_data_root_path = os.path.join(\"C:/\", \"Users\", \"dclemenssewall\", \"Desktop\", \"DavidCS\", \"NOAA\", \"projects\", \n",
    "                                    \"SALVO\", \"salvo-2024-backup\", \"SALVO-2024-20240619-1305\")"
   ]
  },
  {
   "cell_type": "code",
   "execution_count": 14,
   "id": "9e69ce1a-62c5-45d3-b032-19e1867918e4",
   "metadata": {},
   "outputs": [],
   "source": [
    "# Load snowpit stratigraphy table\n",
    "df = pd.read_excel(os.path.join(salvo_data_root_path, 'salvo_2024_snowpit_stratigraphy.xlsx'), \n",
    "                   header=[0,1], index_col=[0,1,2,3], parse_dates=True, date_format='YYYY-MM-DD')\n",
    "\n",
    "# Drop incomplete columns\n",
    "df.drop(columns=[(     'Postprocessed',          'TEMP Thickness (cm)'),\n",
    "                (     'Postprocessed',              'Density (kg/m3)'),\n",
    "                (     'Postprocessed',   'LAI (b.c. equivalent ng/g)'),\n",
    "                (     'Postprocessed', 'LAI (b.c. equivalent ng/g).1')],\n",
    "        inplace=True)"
   ]
  },
  {
   "cell_type": "code",
   "execution_count": 15,
   "id": "92a56bb9-5ab7-4d02-8317-1c0696c25ec1",
   "metadata": {},
   "outputs": [
    {
     "data": {
      "text/plain": [
       "MultiIndex([('Field Observations',                   'Pit Name'),\n",
       "            ('Field Observations',         'Layer Name (field)'),\n",
       "            ('Field Observations',                   'Top (cm)'),\n",
       "            ('Field Observations',                'Bottom (cm)'),\n",
       "            ('Field Observations',                'Grain Shape'),\n",
       "            ('Field Observations',                   'Hardness'),\n",
       "            ('Field Observations',                      'Notes'),\n",
       "            (     'Postprocessed',                      'Notes'),\n",
       "            (     'Postprocessed', 'Layer Name (postprocessed)')],\n",
       "           names=[None, 'Position'])"
      ]
     },
     "execution_count": 15,
     "metadata": {},
     "output_type": "execute_result"
    }
   ],
   "source": [
    "df.columns"
   ]
  },
  {
   "cell_type": "code",
   "execution_count": null,
   "id": "f932f28e-13ae-4066-89ba-2d35e50070b2",
   "metadata": {},
   "outputs": [],
   "source": [
    "# "
   ]
  }
 ],
 "metadata": {
  "kernelspec": {
   "display_name": "Python 3 (ipykernel)",
   "language": "python",
   "name": "python3"
  },
  "language_info": {
   "codemirror_mode": {
    "name": "ipython",
    "version": 3
   },
   "file_extension": ".py",
   "mimetype": "text/x-python",
   "name": "python",
   "nbconvert_exporter": "python",
   "pygments_lexer": "ipython3",
   "version": "3.12.4"
  }
 },
 "nbformat": 4,
 "nbformat_minor": 5
}
