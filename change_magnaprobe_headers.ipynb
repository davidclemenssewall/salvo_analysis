{
 "cells": [
  {
   "cell_type": "markdown",
   "id": "b1a3eee3",
   "metadata": {},
   "source": [
    "# change_magnaprobe_headers\n",
    "\n",
    "Short notebook to change the headers of the a6 and b4 magnaprobe data that we are archiving so that they are consistent with the other salvo conventions"
   ]
  },
  {
   "cell_type": "code",
   "execution_count": 1,
   "id": "804590b2",
   "metadata": {},
   "outputs": [],
   "source": [
    "import os\n",
    "import pandas as pd\n"
   ]
  },
  {
   "cell_type": "code",
   "execution_count": 2,
   "id": "b8bc7d3e",
   "metadata": {},
   "outputs": [],
   "source": [
    "magnaprobe_archive_data_path = os.path.join('..', 'export', 'final-upload-data', 'magnaprobe_2024')"
   ]
  },
  {
   "cell_type": "markdown",
   "id": "95706d77",
   "metadata": {},
   "source": [
    "## a6 files rename columns"
   ]
  },
  {
   "cell_type": "code",
   "execution_count": null,
   "id": "115dd495",
   "metadata": {},
   "outputs": [],
   "source": [
    "a6_files = os.listdir(os.path.join(magnaprobe_archive_data_path, 'a6'))\n",
    "\n",
    "for i in range(len(a6_files)):\n",
    "    filename = os.path.join(magnaprobe_archive_data_path, 'a6', a6_files[i])\n",
    "    print(filename)\n",
    "    df = pd.read_csv(filename)\n",
    "    df.rename(columns={'Timestamp': 'timestamp_akdt', \n",
    "                   'LineLocation': 'position', \n",
    "                   'SnowDepth': 'depth',\n",
    "                   'Layer': 'layer'},\n",
    "         inplace=True)\n",
    "    df.at[0,'layer'] = '(-)'\n",
    "    df.to_csv(filename, index=False, mode='w')"
   ]
  },
  {
   "cell_type": "markdown",
   "id": "75b928a9",
   "metadata": {},
   "source": [
    "## b4 files rename columns"
   ]
  },
  {
   "cell_type": "code",
   "execution_count": 18,
   "id": "6533ef0a",
   "metadata": {},
   "outputs": [
    {
     "name": "stdout",
     "output_type": "stream",
     "text": [
      "..\\export\\final-upload-data\\magnaprobe_2024\\b4\\salvo_arm_line_magnaprobe-geodel_20240522.b4.csv\n",
      "..\\export\\final-upload-data\\magnaprobe_2024\\b4\\salvo_arm_line_magnaprobe-geodel_20240524.b4.csv\n",
      "..\\export\\final-upload-data\\magnaprobe_2024\\b4\\salvo_arm_line_magnaprobe-geodel_20240525.b4.csv\n",
      "..\\export\\final-upload-data\\magnaprobe_2024\\b4\\salvo_arm_line_magnaprobe-geodel_20240527.b4.csv\n",
      "..\\export\\final-upload-data\\magnaprobe_2024\\b4\\salvo_arm_line_magnaprobe-geodel_20240529.b4.csv\n",
      "..\\export\\final-upload-data\\magnaprobe_2024\\b4\\salvo_arm_line_magnaprobe-geodel_20240601.b4.csv\n",
      "..\\export\\final-upload-data\\magnaprobe_2024\\b4\\salvo_arm_line_magnaprobe-geodel_20240603.b4.csv\n",
      "..\\export\\final-upload-data\\magnaprobe_2024\\b4\\salvo_arm_line_magnaprobe-geodel_20240605.b4.csv\n",
      "..\\export\\final-upload-data\\magnaprobe_2024\\b4\\salvo_arm_line_magnaprobe-geodel_20240606.b4.csv\n",
      "..\\export\\final-upload-data\\magnaprobe_2024\\b4\\salvo_arm_line_magnaprobe-geodel_20240608.b4.csv\n",
      "..\\export\\final-upload-data\\magnaprobe_2024\\b4\\salvo_arm_line_magnaprobe-geodel_20240609.b4.csv\n",
      "..\\export\\final-upload-data\\magnaprobe_2024\\b4\\salvo_arm_line_magnaprobe-geodel_20240610.b4.csv\n",
      "..\\export\\final-upload-data\\magnaprobe_2024\\b4\\salvo_arm_line_magnaprobe-geodel_20240612.b4.csv\n",
      "..\\export\\final-upload-data\\magnaprobe_2024\\b4\\salvo_arm_line_magnaprobe-geodel_20240613.b4.csv\n",
      "..\\export\\final-upload-data\\magnaprobe_2024\\b4\\salvo_arm_line_magnaprobe-geodel_20240614.b4.csv\n",
      "..\\export\\final-upload-data\\magnaprobe_2024\\b4\\salvo_arm_line_magnaprobe-geodel_20240615.b4.csv\n",
      "..\\export\\final-upload-data\\magnaprobe_2024\\b4\\salvo_arm_line_magnaprobe-geodel_20240616.b4.csv\n",
      "..\\export\\final-upload-data\\magnaprobe_2024\\b4\\salvo_beo_line_magnaprobe-geodel_20240418.b4.csv\n",
      "..\\export\\final-upload-data\\magnaprobe_2024\\b4\\salvo_beo_line_magnaprobe-geodel_20240420.b4.csv\n",
      "..\\export\\final-upload-data\\magnaprobe_2024\\b4\\salvo_beo_line_magnaprobe-geodel_20240529.b4.csv\n",
      "..\\export\\final-upload-data\\magnaprobe_2024\\b4\\salvo_beo_line_magnaprobe-geodel_20240601.b4.csv\n",
      "..\\export\\final-upload-data\\magnaprobe_2024\\b4\\salvo_beo_line_magnaprobe-geodel_20240602.b4.csv\n",
      "..\\export\\final-upload-data\\magnaprobe_2024\\b4\\salvo_beo_line_magnaprobe-geodel_20240605.b4.csv\n",
      "..\\export\\final-upload-data\\magnaprobe_2024\\b4\\salvo_beo_line_magnaprobe-geodel_20240608.b4.csv\n",
      "..\\export\\final-upload-data\\magnaprobe_2024\\b4\\salvo_beo_line_magnaprobe-geodel_20240611.b4.csv\n",
      "..\\export\\final-upload-data\\magnaprobe_2024\\b4\\salvo_beo_line_magnaprobe-geodel_20240614.b4.csv\n",
      "..\\export\\final-upload-data\\magnaprobe_2024\\b4\\salvo_beo_line_magnaprobe-geodel_20240616.b4.csv\n",
      "..\\export\\final-upload-data\\magnaprobe_2024\\b4\\salvo_beo_line_magnaprobe-geodel_20240617-144749.b4.csv\n",
      "..\\export\\final-upload-data\\magnaprobe_2024\\b4\\salvo_ice_line_magnaprobe-geo1_20240417.b4.csv\n",
      "..\\export\\final-upload-data\\magnaprobe_2024\\b4\\salvo_ice_line_magnaprobe-geodel_20240421.b4.csv\n",
      "..\\export\\final-upload-data\\magnaprobe_2024\\b4\\salvo_ice_line_magnaprobe-geodel_20240526-133258.b4.csv\n",
      "..\\export\\final-upload-data\\magnaprobe_2024\\b4\\salvo_ice_line_magnaprobe-geodel_20240526-140039.b4.csv\n",
      "..\\export\\final-upload-data\\magnaprobe_2024\\b4\\salvo_ice_line_magnaprobe-geodel_20240530.b4.csv\n",
      "..\\export\\final-upload-data\\magnaprobe_2024\\b4\\salvo_ice_line_magnaprobe-geodel_20240604.b4.csv\n",
      "..\\export\\final-upload-data\\magnaprobe_2024\\b4\\salvo_ice_line_magnaprobe-geodel_20240607.b4.csv\n",
      "..\\export\\final-upload-data\\magnaprobe_2024\\b4\\salvo_ice_line_magnaprobe-geodel_20240610.b4.csv\n",
      "..\\export\\final-upload-data\\magnaprobe_2024\\b4\\salvo_ice_line_magnaprobe-geodel_20240613.b4.csv\n",
      "..\\export\\final-upload-data\\magnaprobe_2024\\b4\\salvo_ice_line_magnaprobe-geodel_20240615.b4.csv\n",
      "..\\export\\final-upload-data\\magnaprobe_2024\\b4\\salvo_ice_line_magnaprobe-geodel_20240618-130204.b4.csv\n"
     ]
    }
   ],
   "source": [
    "b4_files = os.listdir(os.path.join(magnaprobe_archive_data_path, 'b4'))\n",
    "\n",
    "for i in range(len(b4_files)):\n",
    "    if b4_files[i][-4:] == '.csv':\n",
    "        filename = os.path.join(magnaprobe_archive_data_path, 'b4', b4_files[i])\n",
    "        print(filename)\n",
    "        df = pd.read_csv(filename)\n",
    "        df.rename(columns={'Timestamp': 'timestamp_akdt', \n",
    "                   'LineLocation': 'position', \n",
    "                   'SnowDepth': 'snow_depth',\n",
    "                   'IceLayerDepth': 'ice_layer_depth',\n",
    "                   'BasalIceThickness': 'basal_ice_thickness',\n",
    "                   'WaterLevel': 'water_level'},\n",
    "                   inplace=True)\n",
    "        df.to_csv(filename, index=False, mode='w')"
   ]
  },
  {
   "cell_type": "code",
   "execution_count": null,
   "id": "6bf3d96e",
   "metadata": {},
   "outputs": [],
   "source": []
  }
 ],
 "metadata": {
  "kernelspec": {
   "display_name": "Python 3 (ipykernel)",
   "language": "python",
   "name": "python3"
  },
  "language_info": {
   "codemirror_mode": {
    "name": "ipython",
    "version": 3
   },
   "file_extension": ".py",
   "mimetype": "text/x-python",
   "name": "python",
   "nbconvert_exporter": "python",
   "pygments_lexer": "ipython3",
   "version": "3.11.5"
  }
 },
 "nbformat": 4,
 "nbformat_minor": 5
}
