{
 "cells": [
  {
   "cell_type": "markdown",
   "id": "74fb179d-57dc-470a-9053-d198009e7e86",
   "metadata": {},
   "source": [
    "# salvo_export_broadband_line\n",
    "\n",
    "Notebook to export just the broadband measurements from the three lines in 2024"
   ]
  },
  {
   "cell_type": "code",
   "execution_count": 105,
   "id": "8d28fa6e-ae53-4456-bb9f-1cdcb22f9427",
   "metadata": {},
   "outputs": [
    {
     "name": "stdout",
     "output_type": "stream",
     "text": [
      "The autoreload extension is already loaded. To reload it, use:\n",
      "  %reload_ext autoreload\n"
     ]
    }
   ],
   "source": [
    "import os\n",
    "import numpy as np\n",
    "import pandas as pd\n",
    "import warnings\n",
    "\n",
    "from modules.salvoimport import load_salvo_data_str, load_gml_albedo, preprocess_rap\n",
    "from modules.salvoproc import line_date_agg\n",
    "\n",
    "%load_ext autoreload\n",
    "%autoreload 2"
   ]
  },
  {
   "cell_type": "code",
   "execution_count": 106,
   "id": "fbc30fe0-d9b6-4251-9850-73416f4979a3",
   "metadata": {},
   "outputs": [],
   "source": [
    "# Load SALVO data\n",
    "salvo_data_root_path = os.path.join(\"C:/\", \"Users\", \"dclemenssewall\", \"Desktop\", \"DavidCS\", \"NOAA\", \"projects\", \n",
    "                                    \"SALVO\", \"data\", \"salvo-2024-backup\", \"SALVO-2024-20240619-1305\")\n",
    "\n",
    "with warnings.catch_warnings():\n",
    "    warnings.simplefilter('ignore')\n",
    "    df = load_salvo_data_str(salvo_data_root_path, dates=None,insts=['kz-mobile'], sites=['arm', 'beo', 'ice'])"
   ]
  },
  {
   "cell_type": "code",
   "execution_count": 110,
   "id": "3f57201a-8cc3-4288-8c17-a6d2df255edd",
   "metadata": {},
   "outputs": [],
   "source": [
    "df_duplicated_diff = (df[df.duplicated(keep='first')].sort_index() - df[df.duplicated(keep='last')].sort_index()).dropna()"
   ]
  },
  {
   "cell_type": "code",
   "execution_count": 111,
   "id": "ab4bf491-cbb9-4b61-88bc-a25da29c6914",
   "metadata": {},
   "outputs": [
    {
     "data": {
      "text/html": [
       "<div>\n",
       "<style scoped>\n",
       "    .dataframe tbody tr th:only-of-type {\n",
       "        vertical-align: middle;\n",
       "    }\n",
       "\n",
       "    .dataframe tbody tr th {\n",
       "        vertical-align: top;\n",
       "    }\n",
       "\n",
       "    .dataframe thead th {\n",
       "        text-align: right;\n",
       "    }\n",
       "</style>\n",
       "<table border=\"1\" class=\"dataframe\">\n",
       "  <thead>\n",
       "    <tr style=\"text-align: right;\">\n",
       "      <th></th>\n",
       "      <th></th>\n",
       "      <th></th>\n",
       "      <th></th>\n",
       "      <th></th>\n",
       "      <th></th>\n",
       "      <th></th>\n",
       "      <th>value</th>\n",
       "    </tr>\n",
       "    <tr>\n",
       "      <th>timestamp_akdt</th>\n",
       "      <th>site</th>\n",
       "      <th>location</th>\n",
       "      <th>position</th>\n",
       "      <th>repetition</th>\n",
       "      <th>wavelength</th>\n",
       "      <th>variable</th>\n",
       "      <th></th>\n",
       "    </tr>\n",
       "  </thead>\n",
       "  <tbody>\n",
       "  </tbody>\n",
       "</table>\n",
       "</div>"
      ],
      "text/plain": [
       "Empty DataFrame\n",
       "Columns: [value]\n",
       "Index: []"
      ]
     },
     "execution_count": 111,
     "metadata": {},
     "output_type": "execute_result"
    }
   ],
   "source": [
    "df_duplicated_diff.iloc[np.nonzero(df_duplicated_diff.values)[0]]"
   ]
  },
  {
   "cell_type": "code",
   "execution_count": 112,
   "id": "456d5d67-5a47-4883-ae12-45ca53480f6f",
   "metadata": {},
   "outputs": [
    {
     "data": {
      "text/html": [
       "<div>\n",
       "<style scoped>\n",
       "    .dataframe tbody tr th:only-of-type {\n",
       "        vertical-align: middle;\n",
       "    }\n",
       "\n",
       "    .dataframe tbody tr th {\n",
       "        vertical-align: top;\n",
       "    }\n",
       "\n",
       "    .dataframe thead th {\n",
       "        text-align: right;\n",
       "    }\n",
       "</style>\n",
       "<table border=\"1\" class=\"dataframe\">\n",
       "  <thead>\n",
       "    <tr style=\"text-align: right;\">\n",
       "      <th></th>\n",
       "      <th></th>\n",
       "      <th></th>\n",
       "      <th></th>\n",
       "      <th></th>\n",
       "      <th></th>\n",
       "      <th>value</th>\n",
       "    </tr>\n",
       "    <tr>\n",
       "      <th>date_akdt</th>\n",
       "      <th>timestamp_akdt</th>\n",
       "      <th>site</th>\n",
       "      <th>position</th>\n",
       "      <th>repetition</th>\n",
       "      <th>variable</th>\n",
       "      <th></th>\n",
       "    </tr>\n",
       "  </thead>\n",
       "  <tbody>\n",
       "    <tr>\n",
       "      <th rowspan=\"3\" valign=\"top\">2024-04-17</th>\n",
       "      <th rowspan=\"3\" valign=\"top\">16:03</th>\n",
       "      <th rowspan=\"3\" valign=\"top\">ice</th>\n",
       "      <th rowspan=\"3\" valign=\"top\">0.0</th>\n",
       "      <th rowspan=\"3\" valign=\"top\">1.0</th>\n",
       "      <th>incident_solar_W_m2</th>\n",
       "      <td>435.970000</td>\n",
       "    </tr>\n",
       "    <tr>\n",
       "      <th>reflected_solar_W_m2</th>\n",
       "      <td>353.780000</td>\n",
       "    </tr>\n",
       "    <tr>\n",
       "      <th>albedo</th>\n",
       "      <td>0.811478</td>\n",
       "    </tr>\n",
       "    <tr>\n",
       "      <th rowspan=\"2\" valign=\"top\">2024-04-19</th>\n",
       "      <th rowspan=\"2\" valign=\"top\">13:06</th>\n",
       "      <th rowspan=\"2\" valign=\"top\">arm</th>\n",
       "      <th rowspan=\"2\" valign=\"top\">0.0</th>\n",
       "      <th rowspan=\"2\" valign=\"top\">1.0</th>\n",
       "      <th>incident_solar_W_m2</th>\n",
       "      <td>349.750000</td>\n",
       "    </tr>\n",
       "    <tr>\n",
       "      <th>reflected_solar_W_m2</th>\n",
       "      <td>288.380000</td>\n",
       "    </tr>\n",
       "    <tr>\n",
       "      <th>...</th>\n",
       "      <th>...</th>\n",
       "      <th>...</th>\n",
       "      <th>...</th>\n",
       "      <th>...</th>\n",
       "      <th>...</th>\n",
       "      <td>...</td>\n",
       "    </tr>\n",
       "    <tr>\n",
       "      <th rowspan=\"2\" valign=\"top\">2024-06-17</th>\n",
       "      <th>14:30</th>\n",
       "      <th>beo</th>\n",
       "      <th>200.0</th>\n",
       "      <th>1.0</th>\n",
       "      <th>albedo</th>\n",
       "      <td>0.158003</td>\n",
       "    </tr>\n",
       "    <tr>\n",
       "      <th>14:37</th>\n",
       "      <th>beo</th>\n",
       "      <th>200.0</th>\n",
       "      <th>2.0</th>\n",
       "      <th>albedo</th>\n",
       "      <td>0.157848</td>\n",
       "    </tr>\n",
       "    <tr>\n",
       "      <th rowspan=\"3\" valign=\"top\">2024-06-18</th>\n",
       "      <th rowspan=\"3\" valign=\"top\">13:32</th>\n",
       "      <th rowspan=\"3\" valign=\"top\">ice</th>\n",
       "      <th rowspan=\"3\" valign=\"top\">200.0</th>\n",
       "      <th rowspan=\"3\" valign=\"top\">1.0</th>\n",
       "      <th>incident_solar_W_m2</th>\n",
       "      <td>412.380000</td>\n",
       "    </tr>\n",
       "    <tr>\n",
       "      <th>reflected_solar_W_m2</th>\n",
       "      <td>249.390000</td>\n",
       "    </tr>\n",
       "    <tr>\n",
       "      <th>albedo</th>\n",
       "      <td>0.604758</td>\n",
       "    </tr>\n",
       "  </tbody>\n",
       "</table>\n",
       "<p>4221 rows × 1 columns</p>\n",
       "</div>"
      ],
      "text/plain": [
       "                                                                              value\n",
       "date_akdt  timestamp_akdt site position repetition variable                        \n",
       "2024-04-17 16:03          ice  0.0      1.0        incident_solar_W_m2   435.970000\n",
       "                                                   reflected_solar_W_m2  353.780000\n",
       "                                                   albedo                  0.811478\n",
       "2024-04-19 13:06          arm  0.0      1.0        incident_solar_W_m2   349.750000\n",
       "                                                   reflected_solar_W_m2  288.380000\n",
       "...                                                                             ...\n",
       "2024-06-17 14:30          beo  200.0    1.0        albedo                  0.158003\n",
       "           14:37          beo  200.0    2.0        albedo                  0.157848\n",
       "2024-06-18 13:32          ice  200.0    1.0        incident_solar_W_m2   412.380000\n",
       "                                                   reflected_solar_W_m2  249.390000\n",
       "                                                   albedo                  0.604758\n",
       "\n",
       "[4221 rows x 1 columns]"
      ]
     },
     "execution_count": 112,
     "metadata": {},
     "output_type": "execute_result"
    }
   ],
   "source": [
    "df_line"
   ]
  },
  {
   "cell_type": "code",
   "execution_count": 55,
   "id": "e96a8945-cec3-449b-ac56-ce9cac555bf8",
   "metadata": {},
   "outputs": [
    {
     "data": {
      "text/html": [
       "<div>\n",
       "<style scoped>\n",
       "    .dataframe tbody tr th:only-of-type {\n",
       "        vertical-align: middle;\n",
       "    }\n",
       "\n",
       "    .dataframe tbody tr th {\n",
       "        vertical-align: top;\n",
       "    }\n",
       "\n",
       "    .dataframe thead th {\n",
       "        text-align: right;\n",
       "    }\n",
       "</style>\n",
       "<table border=\"1\" class=\"dataframe\">\n",
       "  <thead>\n",
       "    <tr style=\"text-align: right;\">\n",
       "      <th></th>\n",
       "      <th></th>\n",
       "      <th></th>\n",
       "      <th></th>\n",
       "      <th>value</th>\n",
       "    </tr>\n",
       "    <tr>\n",
       "      <th>timestamp_akdt</th>\n",
       "      <th>site</th>\n",
       "      <th>position</th>\n",
       "      <th>repetition</th>\n",
       "      <th></th>\n",
       "    </tr>\n",
       "  </thead>\n",
       "  <tbody>\n",
       "    <tr>\n",
       "      <th rowspan=\"2\" valign=\"top\">12:18</th>\n",
       "      <th rowspan=\"2\" valign=\"top\">arm</th>\n",
       "      <th rowspan=\"2\" valign=\"top\">0.0</th>\n",
       "      <th>1.0</th>\n",
       "      <td>538.90</td>\n",
       "    </tr>\n",
       "    <tr>\n",
       "      <th>1.0</th>\n",
       "      <td>538.90</td>\n",
       "    </tr>\n",
       "    <tr>\n",
       "      <th rowspan=\"3\" valign=\"top\">12:21</th>\n",
       "      <th rowspan=\"3\" valign=\"top\">arm</th>\n",
       "      <th rowspan=\"2\" valign=\"top\">5.0</th>\n",
       "      <th>1.0</th>\n",
       "      <td>516.26</td>\n",
       "    </tr>\n",
       "    <tr>\n",
       "      <th>1.0</th>\n",
       "      <td>516.26</td>\n",
       "    </tr>\n",
       "    <tr>\n",
       "      <th>10.0</th>\n",
       "      <th>1.0</th>\n",
       "      <td>515.59</td>\n",
       "    </tr>\n",
       "    <tr>\n",
       "      <th>...</th>\n",
       "      <th>...</th>\n",
       "      <th>...</th>\n",
       "      <th>...</th>\n",
       "      <td>...</td>\n",
       "    </tr>\n",
       "    <tr>\n",
       "      <th rowspan=\"3\" valign=\"top\">12:42</th>\n",
       "      <th rowspan=\"3\" valign=\"top\">arm</th>\n",
       "      <th>190.0</th>\n",
       "      <th>1.0</th>\n",
       "      <td>536.21</td>\n",
       "    </tr>\n",
       "    <tr>\n",
       "      <th rowspan=\"2\" valign=\"top\">195.0</th>\n",
       "      <th>1.0</th>\n",
       "      <td>538.54</td>\n",
       "    </tr>\n",
       "    <tr>\n",
       "      <th>1.0</th>\n",
       "      <td>538.54</td>\n",
       "    </tr>\n",
       "    <tr>\n",
       "      <th rowspan=\"2\" valign=\"top\">12:43</th>\n",
       "      <th rowspan=\"2\" valign=\"top\">arm</th>\n",
       "      <th rowspan=\"2\" valign=\"top\">200.0</th>\n",
       "      <th>1.0</th>\n",
       "      <td>541.87</td>\n",
       "    </tr>\n",
       "    <tr>\n",
       "      <th>1.0</th>\n",
       "      <td>541.87</td>\n",
       "    </tr>\n",
       "  </tbody>\n",
       "</table>\n",
       "<p>82 rows × 1 columns</p>\n",
       "</div>"
      ],
      "text/plain": [
       "                                          value\n",
       "timestamp_akdt site position repetition        \n",
       "12:18          arm  0.0      1.0         538.90\n",
       "                             1.0         538.90\n",
       "12:21          arm  5.0      1.0         516.26\n",
       "                             1.0         516.26\n",
       "                    10.0     1.0         515.59\n",
       "...                                         ...\n",
       "12:42          arm  190.0    1.0         536.21\n",
       "                    195.0    1.0         538.54\n",
       "                             1.0         538.54\n",
       "12:43          arm  200.0    1.0         541.87\n",
       "                             1.0         541.87\n",
       "\n",
       "[82 rows x 1 columns]"
      ]
     },
     "execution_count": 55,
     "metadata": {},
     "output_type": "execute_result"
    }
   ],
   "source": [
    "df_line.xs(('2024-05-27', 'incident_solar_W_m2'), level=('date_akdt', 'variable'))"
   ]
  },
  {
   "cell_type": "code",
   "execution_count": null,
   "id": "ed6d1ee5-05f3-4c2a-b78e-74ccee724d19",
   "metadata": {},
   "outputs": [],
   "source": []
  },
  {
   "cell_type": "code",
   "execution_count": 30,
   "id": "367f34d6-e1c9-496c-9ee8-b0d9596fe574",
   "metadata": {},
   "outputs": [
    {
     "data": {
      "text/plain": [
       "0       16:03\n",
       "1       16:03\n",
       "2       16:03\n",
       "3       13:06\n",
       "4       13:06\n",
       "        ...  \n",
       "4216    14:30\n",
       "4217    14:37\n",
       "4218    13:32\n",
       "4219    13:32\n",
       "4220    13:32\n",
       "Name: timestamp_akdt, Length: 4221, dtype: object"
      ]
     },
     "execution_count": 30,
     "metadata": {},
     "output_type": "execute_result"
    }
   ],
   "source": [
    "df_line['timestamp_akdt'].dt.strftime('%H:%M')"
   ]
  },
  {
   "cell_type": "code",
   "execution_count": 22,
   "id": "90da579a-5d3c-4340-9ad5-bacf5a72fc3a",
   "metadata": {},
   "outputs": [
    {
     "data": {
      "text/plain": [
       "0      2024-04-17 16:03:00-08:00\n",
       "1      2024-04-17 16:03:00-08:00\n",
       "2      2024-04-17 16:03:00-08:00\n",
       "3      2024-04-19 13:06:00-08:00\n",
       "4      2024-04-19 13:06:00-08:00\n",
       "                  ...           \n",
       "4216   2024-06-17 14:30:00-08:00\n",
       "4217   2024-06-17 14:37:00-08:00\n",
       "4218   2024-06-18 13:32:00-08:00\n",
       "4219   2024-06-18 13:32:00-08:00\n",
       "4220   2024-06-18 13:32:00-08:00\n",
       "Name: timestamp_akdt, Length: 4221, dtype: datetime64[ns, UTC-08:00]"
      ]
     },
     "execution_count": 22,
     "metadata": {},
     "output_type": "execute_result"
    }
   ],
   "source": [
    "df_line['timestamp_akdt']"
   ]
  },
  {
   "cell_type": "code",
   "execution_count": null,
   "id": "a07f83d7-8955-424e-b61a-595b13b2a4a4",
   "metadata": {},
   "outputs": [],
   "source": []
  }
 ],
 "metadata": {
  "kernelspec": {
   "display_name": "Python 3 (ipykernel)",
   "language": "python",
   "name": "python3"
  },
  "language_info": {
   "codemirror_mode": {
    "name": "ipython",
    "version": 3
   },
   "file_extension": ".py",
   "mimetype": "text/x-python",
   "name": "python",
   "nbconvert_exporter": "python",
   "pygments_lexer": "ipython3",
   "version": "3.12.4"
  }
 },
 "nbformat": 4,
 "nbformat_minor": 5
}
